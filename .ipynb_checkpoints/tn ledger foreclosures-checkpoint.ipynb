{
 "cells": [
  {
   "cell_type": "code",
   "execution_count": 1,
   "id": "a8374f9d",
   "metadata": {},
   "outputs": [
    {
     "name": "stderr",
     "output_type": "stream",
     "text": [
      "\n",
      "\n",
      "====== WebDriver manager ======\n"
     ]
    },
    {
     "name": "stdout",
     "output_type": "stream",
     "text": [
      "OK {'from': '2022-03-18 17:56:48', 'Calendar': ''}\n",
      "03/18/2022\n"
     ]
    },
    {
     "name": "stderr",
     "output_type": "stream",
     "text": [
      "Current google-chrome version is 99.0.4844\n",
      "Get LATEST chromedriver version for 99.0.4844 google-chrome\n",
      "Trying to download new driver from https://chromedriver.storage.googleapis.com/99.0.4844.51/chromedriver_win32.zip\n",
      "Driver has been saved in cache [C:\\Users\\92312\\.wdm\\drivers\\chromedriver\\win32\\99.0.4844.51]\n",
      "C:\\Users\\92312\\AppData\\Local\\Temp/ipykernel_11872/1834974581.py:63: DeprecationWarning: executable_path has been deprecated, please pass in a Service object\n",
      "  driver1 = webdriver.Chrome(executable_path=ChromeDriverManager().install())\n",
      "\n",
      "\n",
      "====== WebDriver manager ======\n",
      "Current google-chrome version is 99.0.4844\n",
      "Get LATEST chromedriver version for 99.0.4844 google-chrome\n",
      "Driver [C:\\Users\\92312\\.wdm\\drivers\\chromedriver\\win32\\99.0.4844.51\\chromedriver.exe] found in cache\n",
      "C:\\Users\\92312\\AppData\\Local\\Temp/ipykernel_11872/1834974581.py:64: DeprecationWarning: executable_path has been deprecated, please pass in a Service object\n",
      "  driver = webdriver.Chrome(ChromeDriverManager().install())\n",
      "C:\\Users\\92312\\AppData\\Local\\Temp/ipykernel_11872/1834974581.py:70: DeprecationWarning: find_elements_by_* commands are deprecated. Please use find_elements() instead\n",
      "  court_rows=driver.find_elements_by_xpath('//table[@id=\"ContentPane_CourtGridView\"]/tbody/tr')\n",
      "C:\\Users\\92312\\anaconda3\\lib\\site-packages\\selenium\\webdriver\\remote\\webelement.py:358: UserWarning: find_elements_by_* commands are deprecated. Please use find_elements() instead\n",
      "  warnings.warn(\"find_elements_by_* commands are deprecated. Please use find_elements() instead\")\n",
      "C:\\Users\\92312\\anaconda3\\lib\\site-packages\\selenium\\webdriver\\remote\\webelement.py:340: UserWarning: find_element_by_* commands are deprecated. Please use find_element() instead\n",
      "  warnings.warn(\"find_element_by_* commands are deprecated. Please use find_element() instead\")\n",
      "C:\\Users\\92312\\AppData\\Local\\Temp/ipykernel_11872/1834974581.py:92: DeprecationWarning: find_element_by_* commands are deprecated. Please use find_element() instead\n",
      "  page_data=driver1.find_element_by_xpath('//div[@id=\"record-details\"]')\n"
     ]
    },
    {
     "name": "stdout",
     "output_type": "stream",
     "text": [
      "CHEATHAM\n",
      "AT ASHLAND CITY\n",
      "Clayton Sanders, Deceased\n",
      "|Bethany Jones\n",
      "Jennifer Noe\n",
      "['CHEATHAM', 'AT ASHLAND CITY', 'Clayton Sanders, Deceased', '|Bethany Jones', 'Jennifer Noe']\n"
     ]
    },
    {
     "name": "stderr",
     "output_type": "stream",
     "text": [
      "C:\\Users\\92312\\anaconda3\\lib\\site-packages\\selenium\\webdriver\\remote\\webelement.py:358: UserWarning: find_elements_by_* commands are deprecated. Please use find_elements() instead\n",
      "  warnings.warn(\"find_elements_by_* commands are deprecated. Please use find_elements() instead\")\n",
      "C:\\Users\\92312\\anaconda3\\lib\\site-packages\\selenium\\webdriver\\remote\\webelement.py:340: UserWarning: find_element_by_* commands are deprecated. Please use find_element() instead\n",
      "  warnings.warn(\"find_element_by_* commands are deprecated. Please use find_element() instead\")\n",
      "C:\\Users\\92312\\anaconda3\\lib\\site-packages\\selenium\\webdriver\\remote\\webelement.py:358: UserWarning: find_elements_by_* commands are deprecated. Please use find_elements() instead\n",
      "  warnings.warn(\"find_elements_by_* commands are deprecated. Please use find_elements() instead\")\n",
      "C:\\Users\\92312\\anaconda3\\lib\\site-packages\\selenium\\webdriver\\remote\\webelement.py:340: UserWarning: find_element_by_* commands are deprecated. Please use find_element() instead\n",
      "  warnings.warn(\"find_element_by_* commands are deprecated. Please use find_element() instead\")\n",
      "C:\\Users\\92312\\anaconda3\\lib\\site-packages\\selenium\\webdriver\\remote\\webelement.py:358: UserWarning: find_elements_by_* commands are deprecated. Please use find_elements() instead\n",
      "  warnings.warn(\"find_elements_by_* commands are deprecated. Please use find_elements() instead\")\n",
      "C:\\Users\\92312\\anaconda3\\lib\\site-packages\\selenium\\webdriver\\remote\\webelement.py:340: UserWarning: find_element_by_* commands are deprecated. Please use find_element() instead\n",
      "  warnings.warn(\"find_element_by_* commands are deprecated. Please use find_element() instead\")\n",
      "C:\\Users\\92312\\anaconda3\\lib\\site-packages\\selenium\\webdriver\\remote\\webelement.py:358: UserWarning: find_elements_by_* commands are deprecated. Please use find_elements() instead\n",
      "  warnings.warn(\"find_elements_by_* commands are deprecated. Please use find_elements() instead\")\n",
      "C:\\Users\\92312\\anaconda3\\lib\\site-packages\\selenium\\webdriver\\remote\\webelement.py:340: UserWarning: find_element_by_* commands are deprecated. Please use find_element() instead\n",
      "  warnings.warn(\"find_element_by_* commands are deprecated. Please use find_element() instead\")\n",
      "C:\\Users\\92312\\anaconda3\\lib\\site-packages\\selenium\\webdriver\\remote\\webelement.py:358: UserWarning: find_elements_by_* commands are deprecated. Please use find_elements() instead\n",
      "  warnings.warn(\"find_elements_by_* commands are deprecated. Please use find_elements() instead\")\n",
      "C:\\Users\\92312\\anaconda3\\lib\\site-packages\\selenium\\webdriver\\remote\\webelement.py:340: UserWarning: find_element_by_* commands are deprecated. Please use find_element() instead\n",
      "  warnings.warn(\"find_element_by_* commands are deprecated. Please use find_element() instead\")\n",
      "C:\\Users\\92312\\anaconda3\\lib\\site-packages\\selenium\\webdriver\\remote\\webelement.py:358: UserWarning: find_elements_by_* commands are deprecated. Please use find_elements() instead\n",
      "  warnings.warn(\"find_elements_by_* commands are deprecated. Please use find_elements() instead\")\n",
      "C:\\Users\\92312\\anaconda3\\lib\\site-packages\\selenium\\webdriver\\remote\\webelement.py:340: UserWarning: find_element_by_* commands are deprecated. Please use find_element() instead\n",
      "  warnings.warn(\"find_element_by_* commands are deprecated. Please use find_element() instead\")\n",
      "C:\\Users\\92312\\anaconda3\\lib\\site-packages\\selenium\\webdriver\\remote\\webelement.py:358: UserWarning: find_elements_by_* commands are deprecated. Please use find_elements() instead\n",
      "  warnings.warn(\"find_elements_by_* commands are deprecated. Please use find_elements() instead\")\n",
      "C:\\Users\\92312\\anaconda3\\lib\\site-packages\\selenium\\webdriver\\remote\\webelement.py:340: UserWarning: find_element_by_* commands are deprecated. Please use find_element() instead\n",
      "  warnings.warn(\"find_element_by_* commands are deprecated. Please use find_element() instead\")\n",
      "C:\\Users\\92312\\anaconda3\\lib\\site-packages\\selenium\\webdriver\\remote\\webelement.py:358: UserWarning: find_elements_by_* commands are deprecated. Please use find_elements() instead\n",
      "  warnings.warn(\"find_elements_by_* commands are deprecated. Please use find_elements() instead\")\n",
      "C:\\Users\\92312\\anaconda3\\lib\\site-packages\\selenium\\webdriver\\remote\\webelement.py:340: UserWarning: find_element_by_* commands are deprecated. Please use find_element() instead\n",
      "  warnings.warn(\"find_element_by_* commands are deprecated. Please use find_element() instead\")\n",
      "C:\\Users\\92312\\anaconda3\\lib\\site-packages\\selenium\\webdriver\\remote\\webelement.py:358: UserWarning: find_elements_by_* commands are deprecated. Please use find_elements() instead\n",
      "  warnings.warn(\"find_elements_by_* commands are deprecated. Please use find_elements() instead\")\n",
      "C:\\Users\\92312\\anaconda3\\lib\\site-packages\\selenium\\webdriver\\remote\\webelement.py:340: UserWarning: find_element_by_* commands are deprecated. Please use find_element() instead\n",
      "  warnings.warn(\"find_element_by_* commands are deprecated. Please use find_element() instead\")\n"
     ]
    },
    {
     "name": "stdout",
     "output_type": "stream",
     "text": [
      "DAVIDSON COUNTY whole data going to csv.\n"
     ]
    },
    {
     "name": "stderr",
     "output_type": "stream",
     "text": [
      "C:\\Users\\92312\\anaconda3\\lib\\site-packages\\selenium\\webdriver\\remote\\webelement.py:358: UserWarning: find_elements_by_* commands are deprecated. Please use find_elements() instead\n",
      "  warnings.warn(\"find_elements_by_* commands are deprecated. Please use find_elements() instead\")\n",
      "C:\\Users\\92312\\anaconda3\\lib\\site-packages\\selenium\\webdriver\\remote\\webelement.py:340: UserWarning: find_element_by_* commands are deprecated. Please use find_element() instead\n",
      "  warnings.warn(\"find_element_by_* commands are deprecated. Please use find_element() instead\")\n",
      "C:\\Users\\92312\\anaconda3\\lib\\site-packages\\selenium\\webdriver\\remote\\webelement.py:358: UserWarning: find_elements_by_* commands are deprecated. Please use find_elements() instead\n",
      "  warnings.warn(\"find_elements_by_* commands are deprecated. Please use find_elements() instead\")\n",
      "C:\\Users\\92312\\anaconda3\\lib\\site-packages\\selenium\\webdriver\\remote\\webelement.py:340: UserWarning: find_element_by_* commands are deprecated. Please use find_element() instead\n",
      "  warnings.warn(\"find_element_by_* commands are deprecated. Please use find_element() instead\")\n",
      "C:\\Users\\92312\\anaconda3\\lib\\site-packages\\selenium\\webdriver\\remote\\webelement.py:358: UserWarning: find_elements_by_* commands are deprecated. Please use find_elements() instead\n",
      "  warnings.warn(\"find_elements_by_* commands are deprecated. Please use find_elements() instead\")\n",
      "C:\\Users\\92312\\anaconda3\\lib\\site-packages\\selenium\\webdriver\\remote\\webelement.py:340: UserWarning: find_element_by_* commands are deprecated. Please use find_element() instead\n",
      "  warnings.warn(\"find_element_by_* commands are deprecated. Please use find_element() instead\")\n"
     ]
    },
    {
     "name": "stdout",
     "output_type": "stream",
     "text": [
      "AUSTIN PEAY VII\n",
      "['MONTGOMERY', 'CLARKSVILLE, TN 37040', 'BENNIE NORRIS (Deceased)', '|BOBBY C. NORRIS - EXECUTOR', 'AUSTIN PEAY VII']\n"
     ]
    },
    {
     "name": "stderr",
     "output_type": "stream",
     "text": [
      "C:\\Users\\92312\\anaconda3\\lib\\site-packages\\selenium\\webdriver\\remote\\webelement.py:358: UserWarning: find_elements_by_* commands are deprecated. Please use find_elements() instead\n",
      "  warnings.warn(\"find_elements_by_* commands are deprecated. Please use find_elements() instead\")\n",
      "C:\\Users\\92312\\anaconda3\\lib\\site-packages\\selenium\\webdriver\\remote\\webelement.py:340: UserWarning: find_element_by_* commands are deprecated. Please use find_element() instead\n",
      "  warnings.warn(\"find_element_by_* commands are deprecated. Please use find_element() instead\")\n"
     ]
    },
    {
     "name": "stdout",
     "output_type": "stream",
     "text": [
      "JOHN W. CROW, II\n",
      "['MONTGOMERY', 'CLARKSVILLE, TN 37040', 'ELKE ANGELIKA MELTON (Deceased)', '|ROBERT HODGE MELTON SR - ADMINISTRATOR', 'JOHN W. CROW, II']\n"
     ]
    },
    {
     "name": "stderr",
     "output_type": "stream",
     "text": [
      "C:\\Users\\92312\\anaconda3\\lib\\site-packages\\selenium\\webdriver\\remote\\webelement.py:358: UserWarning: find_elements_by_* commands are deprecated. Please use find_elements() instead\n",
      "  warnings.warn(\"find_elements_by_* commands are deprecated. Please use find_elements() instead\")\n",
      "C:\\Users\\92312\\anaconda3\\lib\\site-packages\\selenium\\webdriver\\remote\\webelement.py:340: UserWarning: find_element_by_* commands are deprecated. Please use find_element() instead\n",
      "  warnings.warn(\"find_element_by_* commands are deprecated. Please use find_element() instead\")\n"
     ]
    },
    {
     "name": "stdout",
     "output_type": "stream",
     "text": [
      "['MONTGOMERY', 'By Jan Hinkle', 'Not Available', 'Not Available', 'Not Available']\n"
     ]
    },
    {
     "name": "stderr",
     "output_type": "stream",
     "text": [
      "C:\\Users\\92312\\anaconda3\\lib\\site-packages\\selenium\\webdriver\\remote\\webelement.py:358: UserWarning: find_elements_by_* commands are deprecated. Please use find_elements() instead\n",
      "  warnings.warn(\"find_elements_by_* commands are deprecated. Please use find_elements() instead\")\n",
      "C:\\Users\\92312\\anaconda3\\lib\\site-packages\\selenium\\webdriver\\remote\\webelement.py:340: UserWarning: find_element_by_* commands are deprecated. Please use find_element() instead\n",
      "  warnings.warn(\"find_element_by_* commands are deprecated. Please use find_element() instead\")\n"
     ]
    },
    {
     "name": "stdout",
     "output_type": "stream",
     "text": [
      "THOMAS N. BATEMAN\n",
      "['MONTGOMERY', 'CLARKSVILLE, TN 37041-1008', 'DOUGLAS J. BARNES (Deceased)', '|LOUISE ANN BARNES KRASS - EXECUTRIX', 'THOMAS N. BATEMAN']\n"
     ]
    },
    {
     "name": "stderr",
     "output_type": "stream",
     "text": [
      "C:\\Users\\92312\\anaconda3\\lib\\site-packages\\selenium\\webdriver\\remote\\webelement.py:358: UserWarning: find_elements_by_* commands are deprecated. Please use find_elements() instead\n",
      "  warnings.warn(\"find_elements_by_* commands are deprecated. Please use find_elements() instead\")\n",
      "C:\\Users\\92312\\anaconda3\\lib\\site-packages\\selenium\\webdriver\\remote\\webelement.py:340: UserWarning: find_element_by_* commands are deprecated. Please use find_element() instead\n",
      "  warnings.warn(\"find_element_by_* commands are deprecated. Please use find_element() instead\")\n"
     ]
    },
    {
     "name": "stdout",
     "output_type": "stream",
     "text": [
      "STANLEY M. ROSS\n",
      "['MONTGOMERY', 'CLARKSVILLE, TN 37040', 'SARAH C. LOWE (Deceased)', '|NICHOLAS C. LOWE - EXECUTOR', 'STANLEY M. ROSS']\n"
     ]
    },
    {
     "name": "stderr",
     "output_type": "stream",
     "text": [
      "C:\\Users\\92312\\anaconda3\\lib\\site-packages\\selenium\\webdriver\\remote\\webelement.py:358: UserWarning: find_elements_by_* commands are deprecated. Please use find_elements() instead\n",
      "  warnings.warn(\"find_elements_by_* commands are deprecated. Please use find_elements() instead\")\n",
      "C:\\Users\\92312\\anaconda3\\lib\\site-packages\\selenium\\webdriver\\remote\\webelement.py:340: UserWarning: find_element_by_* commands are deprecated. Please use find_element() instead\n",
      "  warnings.warn(\"find_element_by_* commands are deprecated. Please use find_element() instead\")\n"
     ]
    },
    {
     "name": "stdout",
     "output_type": "stream",
     "text": [
      "MARK A. RASSAS\n",
      "['MONTGOMERY', 'CLARKSVILLE, TN 37040', 'TERRY ANTHONY QUICK (Deceased)', '|CINDY ANN QUICK CAIRA - EXECUTRIX', 'MARK A. RASSAS']\n"
     ]
    },
    {
     "name": "stderr",
     "output_type": "stream",
     "text": [
      "C:\\Users\\92312\\anaconda3\\lib\\site-packages\\selenium\\webdriver\\remote\\webelement.py:358: UserWarning: find_elements_by_* commands are deprecated. Please use find_elements() instead\n",
      "  warnings.warn(\"find_elements_by_* commands are deprecated. Please use find_elements() instead\")\n",
      "C:\\Users\\92312\\anaconda3\\lib\\site-packages\\selenium\\webdriver\\remote\\webelement.py:340: UserWarning: find_element_by_* commands are deprecated. Please use find_element() instead\n",
      "  warnings.warn(\"find_element_by_* commands are deprecated. Please use find_element() instead\")\n"
     ]
    },
    {
     "name": "stdout",
     "output_type": "stream",
     "text": [
      "AMY C. BATES\n",
      "['MONTGOMERY', 'CLARKSVILLE, TN 37040', 'KARL MATTHEW ANKER (Deceased)', '|CHARLES \"LUKE\" ANKER - EXECUTOR', 'AMY C. BATES']\n"
     ]
    },
    {
     "name": "stderr",
     "output_type": "stream",
     "text": [
      "C:\\Users\\92312\\anaconda3\\lib\\site-packages\\selenium\\webdriver\\remote\\webelement.py:358: UserWarning: find_elements_by_* commands are deprecated. Please use find_elements() instead\n",
      "  warnings.warn(\"find_elements_by_* commands are deprecated. Please use find_elements() instead\")\n",
      "C:\\Users\\92312\\anaconda3\\lib\\site-packages\\selenium\\webdriver\\remote\\webelement.py:340: UserWarning: find_element_by_* commands are deprecated. Please use find_element() instead\n",
      "  warnings.warn(\"find_element_by_* commands are deprecated. Please use find_element() instead\")\n",
      "C:\\Users\\92312\\anaconda3\\lib\\site-packages\\selenium\\webdriver\\remote\\webelement.py:358: UserWarning: find_elements_by_* commands are deprecated. Please use find_elements() instead\n",
      "  warnings.warn(\"find_elements_by_* commands are deprecated. Please use find_elements() instead\")\n",
      "C:\\Users\\92312\\anaconda3\\lib\\site-packages\\selenium\\webdriver\\remote\\webelement.py:340: UserWarning: find_element_by_* commands are deprecated. Please use find_element() instead\n",
      "  warnings.warn(\"find_element_by_* commands are deprecated. Please use find_element() instead\")\n",
      "C:\\Users\\92312\\anaconda3\\lib\\site-packages\\selenium\\webdriver\\remote\\webelement.py:358: UserWarning: find_elements_by_* commands are deprecated. Please use find_elements() instead\n",
      "  warnings.warn(\"find_elements_by_* commands are deprecated. Please use find_elements() instead\")\n",
      "C:\\Users\\92312\\anaconda3\\lib\\site-packages\\selenium\\webdriver\\remote\\webelement.py:340: UserWarning: find_element_by_* commands are deprecated. Please use find_element() instead\n",
      "  warnings.warn(\"find_element_by_* commands are deprecated. Please use find_element() instead\")\n"
     ]
    },
    {
     "name": "stdout",
     "output_type": "stream",
     "text": [
      "CHEATHAM\n",
      "AT ASHLAND CITY\n",
      "Judy Evelyn Davidson, Deceased\n",
      "|Jennifer Shearon\n",
      "Martha Brooke Perry\n",
      "['CHEATHAM', 'AT ASHLAND CITY', 'Judy Evelyn Davidson, Deceased', '|Jennifer Shearon', 'Martha Brooke Perry']\n"
     ]
    },
    {
     "name": "stderr",
     "output_type": "stream",
     "text": [
      "C:\\Users\\92312\\anaconda3\\lib\\site-packages\\selenium\\webdriver\\remote\\webelement.py:358: UserWarning: find_elements_by_* commands are deprecated. Please use find_elements() instead\n",
      "  warnings.warn(\"find_elements_by_* commands are deprecated. Please use find_elements() instead\")\n",
      "C:\\Users\\92312\\anaconda3\\lib\\site-packages\\selenium\\webdriver\\remote\\webelement.py:340: UserWarning: find_element_by_* commands are deprecated. Please use find_element() instead\n",
      "  warnings.warn(\"find_element_by_* commands are deprecated. Please use find_element() instead\")\n"
     ]
    },
    {
     "name": "stdout",
     "output_type": "stream",
     "text": [
      "CHEATHAM\n",
      "AT ASHLAND CITY\n",
      "Montie Carol Langley, Deceased\n",
      "|Michael Vincent Langley\n",
      "Marian C. Fordyce\n",
      "['CHEATHAM', 'AT ASHLAND CITY', 'Montie Carol Langley, Deceased', '|Michael Vincent Langley', 'Marian C. Fordyce']\n"
     ]
    },
    {
     "name": "stderr",
     "output_type": "stream",
     "text": [
      "C:\\Users\\92312\\anaconda3\\lib\\site-packages\\selenium\\webdriver\\remote\\webelement.py:358: UserWarning: find_elements_by_* commands are deprecated. Please use find_elements() instead\n",
      "  warnings.warn(\"find_elements_by_* commands are deprecated. Please use find_elements() instead\")\n",
      "C:\\Users\\92312\\anaconda3\\lib\\site-packages\\selenium\\webdriver\\remote\\webelement.py:340: UserWarning: find_element_by_* commands are deprecated. Please use find_element() instead\n",
      "  warnings.warn(\"find_element_by_* commands are deprecated. Please use find_element() instead\")\n",
      "C:\\Users\\92312\\anaconda3\\lib\\site-packages\\selenium\\webdriver\\remote\\webelement.py:358: UserWarning: find_elements_by_* commands are deprecated. Please use find_elements() instead\n",
      "  warnings.warn(\"find_elements_by_* commands are deprecated. Please use find_elements() instead\")\n",
      "C:\\Users\\92312\\anaconda3\\lib\\site-packages\\selenium\\webdriver\\remote\\webelement.py:340: UserWarning: find_element_by_* commands are deprecated. Please use find_element() instead\n",
      "  warnings.warn(\"find_element_by_* commands are deprecated. Please use find_element() instead\")\n",
      "C:\\Users\\92312\\anaconda3\\lib\\site-packages\\selenium\\webdriver\\remote\\webelement.py:358: UserWarning: find_elements_by_* commands are deprecated. Please use find_elements() instead\n",
      "  warnings.warn(\"find_elements_by_* commands are deprecated. Please use find_elements() instead\")\n",
      "C:\\Users\\92312\\anaconda3\\lib\\site-packages\\selenium\\webdriver\\remote\\webelement.py:340: UserWarning: find_element_by_* commands are deprecated. Please use find_element() instead\n",
      "  warnings.warn(\"find_element_by_* commands are deprecated. Please use find_element() instead\")\n"
     ]
    },
    {
     "name": "stdout",
     "output_type": "stream",
     "text": [
      "CHEATHAM\n",
      "AT ASHLAND CITY\n",
      "Joy Dimple Groves, Deceased\n",
      "|Marline Proctor|Lester Groves and\n",
      "Jordan B. Osborn\n",
      "['CHEATHAM', 'AT ASHLAND CITY', 'Joy Dimple Groves, Deceased', '|Marline Proctor|Lester Groves and', 'Jordan B. Osborn']\n"
     ]
    },
    {
     "name": "stderr",
     "output_type": "stream",
     "text": [
      "C:\\Users\\92312\\anaconda3\\lib\\site-packages\\selenium\\webdriver\\remote\\webelement.py:358: UserWarning: find_elements_by_* commands are deprecated. Please use find_elements() instead\n",
      "  warnings.warn(\"find_elements_by_* commands are deprecated. Please use find_elements() instead\")\n",
      "C:\\Users\\92312\\anaconda3\\lib\\site-packages\\selenium\\webdriver\\remote\\webelement.py:340: UserWarning: find_element_by_* commands are deprecated. Please use find_element() instead\n",
      "  warnings.warn(\"find_element_by_* commands are deprecated. Please use find_element() instead\")\n"
     ]
    },
    {
     "name": "stdout",
     "output_type": "stream",
     "text": [
      "CHEATHAM\n",
      "AT ASHLAND CITY\n",
      "Linda Meadows, Deceased\n",
      "|Sue Ferguson\n",
      "D. Dylan Potter\n",
      "['CHEATHAM', 'AT ASHLAND CITY', 'Linda Meadows, Deceased', '|Sue Ferguson', 'D. Dylan Potter']\n"
     ]
    },
    {
     "name": "stderr",
     "output_type": "stream",
     "text": [
      "C:\\Users\\92312\\anaconda3\\lib\\site-packages\\selenium\\webdriver\\remote\\webelement.py:358: UserWarning: find_elements_by_* commands are deprecated. Please use find_elements() instead\n",
      "  warnings.warn(\"find_elements_by_* commands are deprecated. Please use find_elements() instead\")\n",
      "C:\\Users\\92312\\anaconda3\\lib\\site-packages\\selenium\\webdriver\\remote\\webelement.py:340: UserWarning: find_element_by_* commands are deprecated. Please use find_element() instead\n",
      "  warnings.warn(\"find_element_by_* commands are deprecated. Please use find_element() instead\")\n"
     ]
    },
    {
     "name": "stdout",
     "output_type": "stream",
     "text": [
      "CHEATHAM\n",
      "AT ASHLAND CITY\n",
      "Roy Ghurman Brown Jr., Deceased\n",
      "|Nina Kathleen Allen\n",
      "David C. Risner\n",
      "['CHEATHAM', 'AT ASHLAND CITY', 'Roy Ghurman Brown Jr., Deceased', '|Nina Kathleen Allen', 'David C. Risner']\n"
     ]
    },
    {
     "name": "stderr",
     "output_type": "stream",
     "text": [
      "C:\\Users\\92312\\anaconda3\\lib\\site-packages\\selenium\\webdriver\\remote\\webelement.py:358: UserWarning: find_elements_by_* commands are deprecated. Please use find_elements() instead\n",
      "  warnings.warn(\"find_elements_by_* commands are deprecated. Please use find_elements() instead\")\n",
      "C:\\Users\\92312\\anaconda3\\lib\\site-packages\\selenium\\webdriver\\remote\\webelement.py:340: UserWarning: find_element_by_* commands are deprecated. Please use find_element() instead\n",
      "  warnings.warn(\"find_element_by_* commands are deprecated. Please use find_element() instead\")\n"
     ]
    },
    {
     "name": "stdout",
     "output_type": "stream",
     "text": [
      "CHEATHAM\n",
      "AT ASHLAND CITY\n",
      "Larry Davis Glaus, Deceased\n",
      "|Shannon Nicholson\n",
      "Margaret Brady Wilkerson\n",
      "['CHEATHAM', 'AT ASHLAND CITY', 'Larry Davis Glaus, Deceased', '|Shannon Nicholson', 'Margaret Brady Wilkerson']\n"
     ]
    },
    {
     "name": "stderr",
     "output_type": "stream",
     "text": [
      "C:\\Users\\92312\\anaconda3\\lib\\site-packages\\selenium\\webdriver\\remote\\webelement.py:358: UserWarning: find_elements_by_* commands are deprecated. Please use find_elements() instead\n",
      "  warnings.warn(\"find_elements_by_* commands are deprecated. Please use find_elements() instead\")\n",
      "C:\\Users\\92312\\anaconda3\\lib\\site-packages\\selenium\\webdriver\\remote\\webelement.py:340: UserWarning: find_element_by_* commands are deprecated. Please use find_element() instead\n",
      "  warnings.warn(\"find_element_by_* commands are deprecated. Please use find_element() instead\")\n",
      "C:\\Users\\92312\\anaconda3\\lib\\site-packages\\selenium\\webdriver\\remote\\webelement.py:358: UserWarning: find_elements_by_* commands are deprecated. Please use find_elements() instead\n",
      "  warnings.warn(\"find_elements_by_* commands are deprecated. Please use find_elements() instead\")\n",
      "C:\\Users\\92312\\anaconda3\\lib\\site-packages\\selenium\\webdriver\\remote\\webelement.py:340: UserWarning: find_element_by_* commands are deprecated. Please use find_element() instead\n",
      "  warnings.warn(\"find_element_by_* commands are deprecated. Please use find_element() instead\")\n",
      "C:\\Users\\92312\\anaconda3\\lib\\site-packages\\selenium\\webdriver\\remote\\webelement.py:358: UserWarning: find_elements_by_* commands are deprecated. Please use find_elements() instead\n",
      "  warnings.warn(\"find_elements_by_* commands are deprecated. Please use find_elements() instead\")\n",
      "C:\\Users\\92312\\anaconda3\\lib\\site-packages\\selenium\\webdriver\\remote\\webelement.py:340: UserWarning: find_element_by_* commands are deprecated. Please use find_element() instead\n",
      "  warnings.warn(\"find_element_by_* commands are deprecated. Please use find_element() instead\")\n",
      "C:\\Users\\92312\\anaconda3\\lib\\site-packages\\selenium\\webdriver\\remote\\webelement.py:358: UserWarning: find_elements_by_* commands are deprecated. Please use find_elements() instead\n",
      "  warnings.warn(\"find_elements_by_* commands are deprecated. Please use find_elements() instead\")\n",
      "C:\\Users\\92312\\anaconda3\\lib\\site-packages\\selenium\\webdriver\\remote\\webelement.py:340: UserWarning: find_element_by_* commands are deprecated. Please use find_element() instead\n",
      "  warnings.warn(\"find_element_by_* commands are deprecated. Please use find_element() instead\")\n",
      "C:\\Users\\92312\\anaconda3\\lib\\site-packages\\selenium\\webdriver\\remote\\webelement.py:358: UserWarning: find_elements_by_* commands are deprecated. Please use find_elements() instead\n",
      "  warnings.warn(\"find_elements_by_* commands are deprecated. Please use find_elements() instead\")\n",
      "C:\\Users\\92312\\anaconda3\\lib\\site-packages\\selenium\\webdriver\\remote\\webelement.py:340: UserWarning: find_element_by_* commands are deprecated. Please use find_element() instead\n",
      "  warnings.warn(\"find_element_by_* commands are deprecated. Please use find_element() instead\")\n",
      "C:\\Users\\92312\\anaconda3\\lib\\site-packages\\selenium\\webdriver\\remote\\webelement.py:358: UserWarning: find_elements_by_* commands are deprecated. Please use find_elements() instead\n",
      "  warnings.warn(\"find_elements_by_* commands are deprecated. Please use find_elements() instead\")\n",
      "C:\\Users\\92312\\anaconda3\\lib\\site-packages\\selenium\\webdriver\\remote\\webelement.py:340: UserWarning: find_element_by_* commands are deprecated. Please use find_element() instead\n",
      "  warnings.warn(\"find_element_by_* commands are deprecated. Please use find_element() instead\")\n",
      "C:\\Users\\92312\\anaconda3\\lib\\site-packages\\selenium\\webdriver\\remote\\webelement.py:358: UserWarning: find_elements_by_* commands are deprecated. Please use find_elements() instead\n",
      "  warnings.warn(\"find_elements_by_* commands are deprecated. Please use find_elements() instead\")\n",
      "C:\\Users\\92312\\anaconda3\\lib\\site-packages\\selenium\\webdriver\\remote\\webelement.py:340: UserWarning: find_element_by_* commands are deprecated. Please use find_element() instead\n",
      "  warnings.warn(\"find_element_by_* commands are deprecated. Please use find_element() instead\")\n",
      "C:\\Users\\92312\\anaconda3\\lib\\site-packages\\selenium\\webdriver\\remote\\webelement.py:358: UserWarning: find_elements_by_* commands are deprecated. Please use find_elements() instead\n",
      "  warnings.warn(\"find_elements_by_* commands are deprecated. Please use find_elements() instead\")\n",
      "C:\\Users\\92312\\anaconda3\\lib\\site-packages\\selenium\\webdriver\\remote\\webelement.py:340: UserWarning: find_element_by_* commands are deprecated. Please use find_element() instead\n",
      "  warnings.warn(\"find_element_by_* commands are deprecated. Please use find_element() instead\")\n",
      "C:\\Users\\92312\\anaconda3\\lib\\site-packages\\selenium\\webdriver\\remote\\webelement.py:358: UserWarning: find_elements_by_* commands are deprecated. Please use find_elements() instead\n",
      "  warnings.warn(\"find_elements_by_* commands are deprecated. Please use find_elements() instead\")\n",
      "C:\\Users\\92312\\anaconda3\\lib\\site-packages\\selenium\\webdriver\\remote\\webelement.py:340: UserWarning: find_element_by_* commands are deprecated. Please use find_element() instead\n",
      "  warnings.warn(\"find_element_by_* commands are deprecated. Please use find_element() instead\")\n",
      "C:\\Users\\92312\\anaconda3\\lib\\site-packages\\selenium\\webdriver\\remote\\webelement.py:358: UserWarning: find_elements_by_* commands are deprecated. Please use find_elements() instead\n",
      "  warnings.warn(\"find_elements_by_* commands are deprecated. Please use find_elements() instead\")\n",
      "C:\\Users\\92312\\anaconda3\\lib\\site-packages\\selenium\\webdriver\\remote\\webelement.py:340: UserWarning: find_element_by_* commands are deprecated. Please use find_element() instead\n",
      "  warnings.warn(\"find_element_by_* commands are deprecated. Please use find_element() instead\")\n"
     ]
    },
    {
     "name": "stdout",
     "output_type": "stream",
     "text": [
      "CHEATHAM\n",
      "AT ASHLAND CITY\n",
      "Carolyn Lucille Tipton, Deceased\n",
      "|Audrey F. Brewer-Lewis\n",
      "Martin A. Kooperman\n",
      "['CHEATHAM', 'AT ASHLAND CITY', 'Carolyn Lucille Tipton, Deceased', '|Audrey F. Brewer-Lewis', 'Martin A. Kooperman']\n"
     ]
    },
    {
     "name": "stderr",
     "output_type": "stream",
     "text": [
      "C:\\Users\\92312\\anaconda3\\lib\\site-packages\\selenium\\webdriver\\remote\\webelement.py:358: UserWarning: find_elements_by_* commands are deprecated. Please use find_elements() instead\n",
      "  warnings.warn(\"find_elements_by_* commands are deprecated. Please use find_elements() instead\")\n",
      "C:\\Users\\92312\\anaconda3\\lib\\site-packages\\selenium\\webdriver\\remote\\webelement.py:340: UserWarning: find_element_by_* commands are deprecated. Please use find_element() instead\n",
      "  warnings.warn(\"find_element_by_* commands are deprecated. Please use find_element() instead\")\n"
     ]
    },
    {
     "name": "stdout",
     "output_type": "stream",
     "text": [
      "CHEATHAM\n",
      "AT ASHLAND CITY\n",
      "Cecil J. Brewer, Deceased\n",
      "|Audrey F. Brewer-Lewis\n",
      "Martin A. Kooperman\n",
      "['CHEATHAM', 'AT ASHLAND CITY', 'Cecil J. Brewer, Deceased', '|Audrey F. Brewer-Lewis', 'Martin A. Kooperman']\n"
     ]
    },
    {
     "name": "stderr",
     "output_type": "stream",
     "text": [
      "C:\\Users\\92312\\anaconda3\\lib\\site-packages\\selenium\\webdriver\\remote\\webelement.py:358: UserWarning: find_elements_by_* commands are deprecated. Please use find_elements() instead\n",
      "  warnings.warn(\"find_elements_by_* commands are deprecated. Please use find_elements() instead\")\n",
      "C:\\Users\\92312\\anaconda3\\lib\\site-packages\\selenium\\webdriver\\remote\\webelement.py:340: UserWarning: find_element_by_* commands are deprecated. Please use find_element() instead\n",
      "  warnings.warn(\"find_element_by_* commands are deprecated. Please use find_element() instead\")\n",
      "C:\\Users\\92312\\anaconda3\\lib\\site-packages\\selenium\\webdriver\\remote\\webelement.py:358: UserWarning: find_elements_by_* commands are deprecated. Please use find_elements() instead\n",
      "  warnings.warn(\"find_elements_by_* commands are deprecated. Please use find_elements() instead\")\n",
      "C:\\Users\\92312\\anaconda3\\lib\\site-packages\\selenium\\webdriver\\remote\\webelement.py:340: UserWarning: find_element_by_* commands are deprecated. Please use find_element() instead\n",
      "  warnings.warn(\"find_element_by_* commands are deprecated. Please use find_element() instead\")\n",
      "C:\\Users\\92312\\anaconda3\\lib\\site-packages\\selenium\\webdriver\\remote\\webelement.py:358: UserWarning: find_elements_by_* commands are deprecated. Please use find_elements() instead\n",
      "  warnings.warn(\"find_elements_by_* commands are deprecated. Please use find_elements() instead\")\n",
      "C:\\Users\\92312\\anaconda3\\lib\\site-packages\\selenium\\webdriver\\remote\\webelement.py:340: UserWarning: find_element_by_* commands are deprecated. Please use find_element() instead\n",
      "  warnings.warn(\"find_element_by_* commands are deprecated. Please use find_element() instead\")\n",
      "C:\\Users\\92312\\anaconda3\\lib\\site-packages\\selenium\\webdriver\\remote\\webelement.py:358: UserWarning: find_elements_by_* commands are deprecated. Please use find_elements() instead\n",
      "  warnings.warn(\"find_elements_by_* commands are deprecated. Please use find_elements() instead\")\n",
      "C:\\Users\\92312\\anaconda3\\lib\\site-packages\\selenium\\webdriver\\remote\\webelement.py:340: UserWarning: find_element_by_* commands are deprecated. Please use find_element() instead\n",
      "  warnings.warn(\"find_element_by_* commands are deprecated. Please use find_element() instead\")\n",
      "C:\\Users\\92312\\anaconda3\\lib\\site-packages\\selenium\\webdriver\\remote\\webelement.py:358: UserWarning: find_elements_by_* commands are deprecated. Please use find_elements() instead\n",
      "  warnings.warn(\"find_elements_by_* commands are deprecated. Please use find_elements() instead\")\n",
      "C:\\Users\\92312\\anaconda3\\lib\\site-packages\\selenium\\webdriver\\remote\\webelement.py:340: UserWarning: find_element_by_* commands are deprecated. Please use find_element() instead\n",
      "  warnings.warn(\"find_element_by_* commands are deprecated. Please use find_element() instead\")\n",
      "C:\\Users\\92312\\anaconda3\\lib\\site-packages\\selenium\\webdriver\\remote\\webelement.py:358: UserWarning: find_elements_by_* commands are deprecated. Please use find_elements() instead\n",
      "  warnings.warn(\"find_elements_by_* commands are deprecated. Please use find_elements() instead\")\n",
      "C:\\Users\\92312\\anaconda3\\lib\\site-packages\\selenium\\webdriver\\remote\\webelement.py:340: UserWarning: find_element_by_* commands are deprecated. Please use find_element() instead\n",
      "  warnings.warn(\"find_element_by_* commands are deprecated. Please use find_element() instead\")\n",
      "C:\\Users\\92312\\anaconda3\\lib\\site-packages\\selenium\\webdriver\\remote\\webelement.py:358: UserWarning: find_elements_by_* commands are deprecated. Please use find_elements() instead\n",
      "  warnings.warn(\"find_elements_by_* commands are deprecated. Please use find_elements() instead\")\n",
      "C:\\Users\\92312\\anaconda3\\lib\\site-packages\\selenium\\webdriver\\remote\\webelement.py:340: UserWarning: find_element_by_* commands are deprecated. Please use find_element() instead\n",
      "  warnings.warn(\"find_element_by_* commands are deprecated. Please use find_element() instead\")\n",
      "C:\\Users\\92312\\anaconda3\\lib\\site-packages\\selenium\\webdriver\\remote\\webelement.py:358: UserWarning: find_elements_by_* commands are deprecated. Please use find_elements() instead\n",
      "  warnings.warn(\"find_elements_by_* commands are deprecated. Please use find_elements() instead\")\n",
      "C:\\Users\\92312\\anaconda3\\lib\\site-packages\\selenium\\webdriver\\remote\\webelement.py:340: UserWarning: find_element_by_* commands are deprecated. Please use find_element() instead\n",
      "  warnings.warn(\"find_element_by_* commands are deprecated. Please use find_element() instead\")\n",
      "C:\\Users\\92312\\anaconda3\\lib\\site-packages\\selenium\\webdriver\\remote\\webelement.py:358: UserWarning: find_elements_by_* commands are deprecated. Please use find_elements() instead\n",
      "  warnings.warn(\"find_elements_by_* commands are deprecated. Please use find_elements() instead\")\n",
      "C:\\Users\\92312\\anaconda3\\lib\\site-packages\\selenium\\webdriver\\remote\\webelement.py:340: UserWarning: find_element_by_* commands are deprecated. Please use find_element() instead\n",
      "  warnings.warn(\"find_element_by_* commands are deprecated. Please use find_element() instead\")\n",
      "C:\\Users\\92312\\anaconda3\\lib\\site-packages\\selenium\\webdriver\\remote\\webelement.py:358: UserWarning: find_elements_by_* commands are deprecated. Please use find_elements() instead\n",
      "  warnings.warn(\"find_elements_by_* commands are deprecated. Please use find_elements() instead\")\n",
      "C:\\Users\\92312\\anaconda3\\lib\\site-packages\\selenium\\webdriver\\remote\\webelement.py:340: UserWarning: find_element_by_* commands are deprecated. Please use find_element() instead\n",
      "  warnings.warn(\"find_element_by_* commands are deprecated. Please use find_element() instead\")\n",
      "C:\\Users\\92312\\anaconda3\\lib\\site-packages\\selenium\\webdriver\\remote\\webelement.py:358: UserWarning: find_elements_by_* commands are deprecated. Please use find_elements() instead\n",
      "  warnings.warn(\"find_elements_by_* commands are deprecated. Please use find_elements() instead\")\n",
      "C:\\Users\\92312\\anaconda3\\lib\\site-packages\\selenium\\webdriver\\remote\\webelement.py:340: UserWarning: find_element_by_* commands are deprecated. Please use find_element() instead\n",
      "  warnings.warn(\"find_element_by_* commands are deprecated. Please use find_element() instead\")\n",
      "C:\\Users\\92312\\anaconda3\\lib\\site-packages\\selenium\\webdriver\\remote\\webelement.py:358: UserWarning: find_elements_by_* commands are deprecated. Please use find_elements() instead\n",
      "  warnings.warn(\"find_elements_by_* commands are deprecated. Please use find_elements() instead\")\n",
      "C:\\Users\\92312\\anaconda3\\lib\\site-packages\\selenium\\webdriver\\remote\\webelement.py:340: UserWarning: find_element_by_* commands are deprecated. Please use find_element() instead\n",
      "  warnings.warn(\"find_element_by_* commands are deprecated. Please use find_element() instead\")\n",
      "C:\\Users\\92312\\anaconda3\\lib\\site-packages\\selenium\\webdriver\\remote\\webelement.py:358: UserWarning: find_elements_by_* commands are deprecated. Please use find_elements() instead\n",
      "  warnings.warn(\"find_elements_by_* commands are deprecated. Please use find_elements() instead\")\n",
      "C:\\Users\\92312\\anaconda3\\lib\\site-packages\\selenium\\webdriver\\remote\\webelement.py:340: UserWarning: find_element_by_* commands are deprecated. Please use find_element() instead\n",
      "  warnings.warn(\"find_element_by_* commands are deprecated. Please use find_element() instead\")\n",
      "C:\\Users\\92312\\anaconda3\\lib\\site-packages\\selenium\\webdriver\\remote\\webelement.py:358: UserWarning: find_elements_by_* commands are deprecated. Please use find_elements() instead\n",
      "  warnings.warn(\"find_elements_by_* commands are deprecated. Please use find_elements() instead\")\n",
      "C:\\Users\\92312\\anaconda3\\lib\\site-packages\\selenium\\webdriver\\remote\\webelement.py:340: UserWarning: find_element_by_* commands are deprecated. Please use find_element() instead\n",
      "  warnings.warn(\"find_element_by_* commands are deprecated. Please use find_element() instead\")\n",
      "C:\\Users\\92312\\anaconda3\\lib\\site-packages\\selenium\\webdriver\\remote\\webelement.py:358: UserWarning: find_elements_by_* commands are deprecated. Please use find_elements() instead\n",
      "  warnings.warn(\"find_elements_by_* commands are deprecated. Please use find_elements() instead\")\n",
      "C:\\Users\\92312\\anaconda3\\lib\\site-packages\\selenium\\webdriver\\remote\\webelement.py:340: UserWarning: find_element_by_* commands are deprecated. Please use find_element() instead\n",
      "  warnings.warn(\"find_element_by_* commands are deprecated. Please use find_element() instead\")\n"
     ]
    },
    {
     "name": "stderr",
     "output_type": "stream",
     "text": [
      "C:\\Users\\92312\\anaconda3\\lib\\site-packages\\selenium\\webdriver\\remote\\webelement.py:358: UserWarning: find_elements_by_* commands are deprecated. Please use find_elements() instead\n",
      "  warnings.warn(\"find_elements_by_* commands are deprecated. Please use find_elements() instead\")\n",
      "C:\\Users\\92312\\anaconda3\\lib\\site-packages\\selenium\\webdriver\\remote\\webelement.py:340: UserWarning: find_element_by_* commands are deprecated. Please use find_element() instead\n",
      "  warnings.warn(\"find_element_by_* commands are deprecated. Please use find_element() instead\")\n"
     ]
    },
    {
     "name": "stdout",
     "output_type": "stream",
     "text": [
      "JOEL D. RAGLAND\n",
      "['MONTGOMERY', 'CLARKSVILLE, TN 37040', 'CLAIBORNE M. SANDERS (Deceased)', '|BENJAMIN A. WOLF - EXECUTOR', 'JOEL D. RAGLAND']\n"
     ]
    },
    {
     "name": "stderr",
     "output_type": "stream",
     "text": [
      "C:\\Users\\92312\\anaconda3\\lib\\site-packages\\selenium\\webdriver\\remote\\webelement.py:358: UserWarning: find_elements_by_* commands are deprecated. Please use find_elements() instead\n",
      "  warnings.warn(\"find_elements_by_* commands are deprecated. Please use find_elements() instead\")\n",
      "C:\\Users\\92312\\anaconda3\\lib\\site-packages\\selenium\\webdriver\\remote\\webelement.py:340: UserWarning: find_element_by_* commands are deprecated. Please use find_element() instead\n",
      "  warnings.warn(\"find_element_by_* commands are deprecated. Please use find_element() instead\")\n"
     ]
    },
    {
     "name": "stdout",
     "output_type": "stream",
     "text": [
      "OLIVIA WANN\n",
      "['MONTGOMERY', 'DOVER, TN 37058', 'DONALD R. WILSON (Deceased)', '|JOY GASTON - EXECUTRIX', 'OLIVIA WANN']\n"
     ]
    },
    {
     "name": "stderr",
     "output_type": "stream",
     "text": [
      "C:\\Users\\92312\\anaconda3\\lib\\site-packages\\selenium\\webdriver\\remote\\webelement.py:358: UserWarning: find_elements_by_* commands are deprecated. Please use find_elements() instead\n",
      "  warnings.warn(\"find_elements_by_* commands are deprecated. Please use find_elements() instead\")\n",
      "C:\\Users\\92312\\anaconda3\\lib\\site-packages\\selenium\\webdriver\\remote\\webelement.py:340: UserWarning: find_element_by_* commands are deprecated. Please use find_element() instead\n",
      "  warnings.warn(\"find_element_by_* commands are deprecated. Please use find_element() instead\")\n"
     ]
    },
    {
     "name": "stdout",
     "output_type": "stream",
     "text": [
      "LAUREN SAFELY MEADOWS\n",
      "['MONTGOMERY', 'CLARKSVILLE, TN 37040', 'PHILLIP GULLETT (Deceased)', '|TAMMY A. STOKES - ADMINISTRATRIX', 'LAUREN SAFELY MEADOWS']\n"
     ]
    },
    {
     "name": "stderr",
     "output_type": "stream",
     "text": [
      "C:\\Users\\92312\\anaconda3\\lib\\site-packages\\selenium\\webdriver\\remote\\webelement.py:358: UserWarning: find_elements_by_* commands are deprecated. Please use find_elements() instead\n",
      "  warnings.warn(\"find_elements_by_* commands are deprecated. Please use find_elements() instead\")\n",
      "C:\\Users\\92312\\anaconda3\\lib\\site-packages\\selenium\\webdriver\\remote\\webelement.py:340: UserWarning: find_element_by_* commands are deprecated. Please use find_element() instead\n",
      "  warnings.warn(\"find_element_by_* commands are deprecated. Please use find_element() instead\")\n"
     ]
    },
    {
     "name": "stdout",
     "output_type": "stream",
     "text": [
      "AMY C. BATES\n",
      "['MONTGOMERY', 'CLARKSVILLE, TN 37040', 'YONG CHA NEILL (Deceased)', '|DONALD P. NEILL - EXECUTOR', 'AMY C. BATES']\n"
     ]
    },
    {
     "name": "stderr",
     "output_type": "stream",
     "text": [
      "C:\\Users\\92312\\anaconda3\\lib\\site-packages\\selenium\\webdriver\\remote\\webelement.py:358: UserWarning: find_elements_by_* commands are deprecated. Please use find_elements() instead\n",
      "  warnings.warn(\"find_elements_by_* commands are deprecated. Please use find_elements() instead\")\n",
      "C:\\Users\\92312\\anaconda3\\lib\\site-packages\\selenium\\webdriver\\remote\\webelement.py:340: UserWarning: find_element_by_* commands are deprecated. Please use find_element() instead\n",
      "  warnings.warn(\"find_element_by_* commands are deprecated. Please use find_element() instead\")\n"
     ]
    },
    {
     "name": "stdout",
     "output_type": "stream",
     "text": [
      "BRYAN HOWARD\n",
      "['MONTGOMERY', 'NASHVILLE, TN 37215', 'MABEL H. LARSON (Deceased)', '|HOWARD ERIC LARSON, II - EXECUTOR', 'BRYAN HOWARD']\n"
     ]
    },
    {
     "name": "stderr",
     "output_type": "stream",
     "text": [
      "C:\\Users\\92312\\anaconda3\\lib\\site-packages\\selenium\\webdriver\\remote\\webelement.py:358: UserWarning: find_elements_by_* commands are deprecated. Please use find_elements() instead\n",
      "  warnings.warn(\"find_elements_by_* commands are deprecated. Please use find_elements() instead\")\n",
      "C:\\Users\\92312\\anaconda3\\lib\\site-packages\\selenium\\webdriver\\remote\\webelement.py:340: UserWarning: find_element_by_* commands are deprecated. Please use find_element() instead\n",
      "  warnings.warn(\"find_element_by_* commands are deprecated. Please use find_element() instead\")\n"
     ]
    },
    {
     "name": "stdout",
     "output_type": "stream",
     "text": [
      "ELIZABETH D. RANKIN\n",
      "['MONTGOMERY', 'CLARKSVILLE, TN 37043', 'NELL NORTHINGTON WARREN (Deceased)', '|MICHAEL C. NORTHINGTON, IV - EXECUTOR', 'ELIZABETH D. RANKIN']\n"
     ]
    },
    {
     "name": "stderr",
     "output_type": "stream",
     "text": [
      "C:\\Users\\92312\\anaconda3\\lib\\site-packages\\selenium\\webdriver\\remote\\webelement.py:358: UserWarning: find_elements_by_* commands are deprecated. Please use find_elements() instead\n",
      "  warnings.warn(\"find_elements_by_* commands are deprecated. Please use find_elements() instead\")\n",
      "C:\\Users\\92312\\anaconda3\\lib\\site-packages\\selenium\\webdriver\\remote\\webelement.py:340: UserWarning: find_element_by_* commands are deprecated. Please use find_element() instead\n",
      "  warnings.warn(\"find_element_by_* commands are deprecated. Please use find_element() instead\")\n"
     ]
    },
    {
     "name": "stdout",
     "output_type": "stream",
     "text": [
      "JOEL D. RAGLAND\n",
      "['MONTGOMERY', 'CLARKSVILLE, TN 37040', 'HANNE G. WILLIAMS (Deceased)', '|STEVEN G. WILLIAMS - EXECUTOR', 'JOEL D. RAGLAND']\n"
     ]
    },
    {
     "name": "stderr",
     "output_type": "stream",
     "text": [
      "C:\\Users\\92312\\anaconda3\\lib\\site-packages\\selenium\\webdriver\\remote\\webelement.py:358: UserWarning: find_elements_by_* commands are deprecated. Please use find_elements() instead\n",
      "  warnings.warn(\"find_elements_by_* commands are deprecated. Please use find_elements() instead\")\n",
      "C:\\Users\\92312\\anaconda3\\lib\\site-packages\\selenium\\webdriver\\remote\\webelement.py:340: UserWarning: find_element_by_* commands are deprecated. Please use find_element() instead\n",
      "  warnings.warn(\"find_element_by_* commands are deprecated. Please use find_element() instead\")\n"
     ]
    },
    {
     "name": "stdout",
     "output_type": "stream",
     "text": [
      "TRAVIS N. MEEKS\n",
      "['MONTGOMERY', 'CLARKSVILLE, TN 37040', 'RICHARD WESTRICH, SR (Deceased)', '|MARY E. BYRD - EXECUTRIX', 'TRAVIS N. MEEKS']\n"
     ]
    },
    {
     "name": "stderr",
     "output_type": "stream",
     "text": [
      "C:\\Users\\92312\\anaconda3\\lib\\site-packages\\selenium\\webdriver\\remote\\webelement.py:358: UserWarning: find_elements_by_* commands are deprecated. Please use find_elements() instead\n",
      "  warnings.warn(\"find_elements_by_* commands are deprecated. Please use find_elements() instead\")\n",
      "C:\\Users\\92312\\anaconda3\\lib\\site-packages\\selenium\\webdriver\\remote\\webelement.py:340: UserWarning: find_element_by_* commands are deprecated. Please use find_element() instead\n",
      "  warnings.warn(\"find_element_by_* commands are deprecated. Please use find_element() instead\")\n"
     ]
    },
    {
     "name": "stdout",
     "output_type": "stream",
     "text": [
      "JOHN M. BIGGS\n",
      "['MONTGOMERY', 'CLARKSVILLE, TN 37040', 'BETTYE B. FALLS (Deceased)', '|MICHAEL W. RAINEY - EXECUTOR', 'JOHN M. BIGGS']\n"
     ]
    },
    {
     "name": "stderr",
     "output_type": "stream",
     "text": [
      "C:\\Users\\92312\\anaconda3\\lib\\site-packages\\selenium\\webdriver\\remote\\webelement.py:358: UserWarning: find_elements_by_* commands are deprecated. Please use find_elements() instead\n",
      "  warnings.warn(\"find_elements_by_* commands are deprecated. Please use find_elements() instead\")\n",
      "C:\\Users\\92312\\anaconda3\\lib\\site-packages\\selenium\\webdriver\\remote\\webelement.py:340: UserWarning: find_element_by_* commands are deprecated. Please use find_element() instead\n",
      "  warnings.warn(\"find_element_by_* commands are deprecated. Please use find_element() instead\")\n"
     ]
    },
    {
     "name": "stdout",
     "output_type": "stream",
     "text": [
      "CHEATHAM\n",
      "AT ASHLAND CITY\n",
      "Lavanna Faye Munn, Deceased\n",
      "|Robert Simpkins\n",
      "Lauren S. Meadows\n",
      "['CHEATHAM', 'AT ASHLAND CITY', 'Lavanna Faye Munn, Deceased', '|Robert Simpkins', 'Lauren S. Meadows']\n"
     ]
    },
    {
     "name": "stderr",
     "output_type": "stream",
     "text": [
      "C:\\Users\\92312\\anaconda3\\lib\\site-packages\\selenium\\webdriver\\remote\\webelement.py:358: UserWarning: find_elements_by_* commands are deprecated. Please use find_elements() instead\n",
      "  warnings.warn(\"find_elements_by_* commands are deprecated. Please use find_elements() instead\")\n",
      "C:\\Users\\92312\\anaconda3\\lib\\site-packages\\selenium\\webdriver\\remote\\webelement.py:340: UserWarning: find_element_by_* commands are deprecated. Please use find_element() instead\n",
      "  warnings.warn(\"find_element_by_* commands are deprecated. Please use find_element() instead\")\n"
     ]
    },
    {
     "name": "stdout",
     "output_type": "stream",
     "text": [
      "CHEATHAM\n",
      "AT ASHLAND CITY\n",
      "Diane Hueffmeier, Deceased\n",
      "|Laurie Frye\n",
      "Margaret Brady Wilkerson\n",
      "['CHEATHAM', 'AT ASHLAND CITY', 'Diane Hueffmeier, Deceased', '|Laurie Frye', 'Margaret Brady Wilkerson']\n"
     ]
    },
    {
     "name": "stderr",
     "output_type": "stream",
     "text": [
      "C:\\Users\\92312\\anaconda3\\lib\\site-packages\\selenium\\webdriver\\remote\\webelement.py:358: UserWarning: find_elements_by_* commands are deprecated. Please use find_elements() instead\n",
      "  warnings.warn(\"find_elements_by_* commands are deprecated. Please use find_elements() instead\")\n",
      "C:\\Users\\92312\\anaconda3\\lib\\site-packages\\selenium\\webdriver\\remote\\webelement.py:340: UserWarning: find_element_by_* commands are deprecated. Please use find_element() instead\n",
      "  warnings.warn(\"find_element_by_* commands are deprecated. Please use find_element() instead\")\n",
      "C:\\Users\\92312\\anaconda3\\lib\\site-packages\\selenium\\webdriver\\remote\\webelement.py:358: UserWarning: find_elements_by_* commands are deprecated. Please use find_elements() instead\n",
      "  warnings.warn(\"find_elements_by_* commands are deprecated. Please use find_elements() instead\")\n",
      "C:\\Users\\92312\\anaconda3\\lib\\site-packages\\selenium\\webdriver\\remote\\webelement.py:340: UserWarning: find_element_by_* commands are deprecated. Please use find_element() instead\n",
      "  warnings.warn(\"find_element_by_* commands are deprecated. Please use find_element() instead\")\n",
      "C:\\Users\\92312\\anaconda3\\lib\\site-packages\\selenium\\webdriver\\remote\\webelement.py:358: UserWarning: find_elements_by_* commands are deprecated. Please use find_elements() instead\n",
      "  warnings.warn(\"find_elements_by_* commands are deprecated. Please use find_elements() instead\")\n",
      "C:\\Users\\92312\\anaconda3\\lib\\site-packages\\selenium\\webdriver\\remote\\webelement.py:340: UserWarning: find_element_by_* commands are deprecated. Please use find_element() instead\n",
      "  warnings.warn(\"find_element_by_* commands are deprecated. Please use find_element() instead\")\n",
      "C:\\Users\\92312\\anaconda3\\lib\\site-packages\\selenium\\webdriver\\remote\\webelement.py:358: UserWarning: find_elements_by_* commands are deprecated. Please use find_elements() instead\n",
      "  warnings.warn(\"find_elements_by_* commands are deprecated. Please use find_elements() instead\")\n",
      "C:\\Users\\92312\\anaconda3\\lib\\site-packages\\selenium\\webdriver\\remote\\webelement.py:340: UserWarning: find_element_by_* commands are deprecated. Please use find_element() instead\n",
      "  warnings.warn(\"find_element_by_* commands are deprecated. Please use find_element() instead\")\n",
      "C:\\Users\\92312\\anaconda3\\lib\\site-packages\\selenium\\webdriver\\remote\\webelement.py:358: UserWarning: find_elements_by_* commands are deprecated. Please use find_elements() instead\n",
      "  warnings.warn(\"find_elements_by_* commands are deprecated. Please use find_elements() instead\")\n",
      "C:\\Users\\92312\\anaconda3\\lib\\site-packages\\selenium\\webdriver\\remote\\webelement.py:340: UserWarning: find_element_by_* commands are deprecated. Please use find_element() instead\n",
      "  warnings.warn(\"find_element_by_* commands are deprecated. Please use find_element() instead\")\n",
      "C:\\Users\\92312\\anaconda3\\lib\\site-packages\\selenium\\webdriver\\remote\\webelement.py:358: UserWarning: find_elements_by_* commands are deprecated. Please use find_elements() instead\n",
      "  warnings.warn(\"find_elements_by_* commands are deprecated. Please use find_elements() instead\")\n",
      "C:\\Users\\92312\\anaconda3\\lib\\site-packages\\selenium\\webdriver\\remote\\webelement.py:340: UserWarning: find_element_by_* commands are deprecated. Please use find_element() instead\n",
      "  warnings.warn(\"find_element_by_* commands are deprecated. Please use find_element() instead\")\n",
      "C:\\Users\\92312\\anaconda3\\lib\\site-packages\\selenium\\webdriver\\remote\\webelement.py:358: UserWarning: find_elements_by_* commands are deprecated. Please use find_elements() instead\n",
      "  warnings.warn(\"find_elements_by_* commands are deprecated. Please use find_elements() instead\")\n",
      "C:\\Users\\92312\\anaconda3\\lib\\site-packages\\selenium\\webdriver\\remote\\webelement.py:340: UserWarning: find_element_by_* commands are deprecated. Please use find_element() instead\n",
      "  warnings.warn(\"find_element_by_* commands are deprecated. Please use find_element() instead\")\n",
      "C:\\Users\\92312\\anaconda3\\lib\\site-packages\\selenium\\webdriver\\remote\\webelement.py:358: UserWarning: find_elements_by_* commands are deprecated. Please use find_elements() instead\n",
      "  warnings.warn(\"find_elements_by_* commands are deprecated. Please use find_elements() instead\")\n",
      "C:\\Users\\92312\\anaconda3\\lib\\site-packages\\selenium\\webdriver\\remote\\webelement.py:340: UserWarning: find_element_by_* commands are deprecated. Please use find_element() instead\n",
      "  warnings.warn(\"find_element_by_* commands are deprecated. Please use find_element() instead\")\n"
     ]
    },
    {
     "name": "stdout",
     "output_type": "stream",
     "text": [
      "Hey Angel, scraping is done. You can now close this terminal\n"
     ]
    }
   ],
   "source": [
    "from selenium import webdriver\n",
    "from selenium.webdriver.common.keys import Keys\n",
    "from selenium.webdriver.support.ui import WebDriverWait\n",
    "from selenium.webdriver.support import expected_conditions as EC\n",
    "from selenium.webdriver.common.by import By\n",
    "from selenium.webdriver.support.ui import WebDriverWait\n",
    "from selenium.webdriver.common.action_chains import ActionChains\n",
    "from selenium.webdriver.chrome.options import Options\n",
    "from selenium.webdriver.common.keys import Keys\n",
    "from openpyxl import Workbook\n",
    "from openpyxl.styles import Font, Color, Alignment, Border, Side\n",
    "from openpyxl.worksheet.dimensions import ColumnDimension, DimensionHolder\n",
    "from openpyxl.utils import get_column_letter\n",
    "from webdriver_manager.chrome import ChromeDriverManager\n",
    "import datefinder\n",
    "from datetime import date\n",
    "import random\n",
    "import PySimpleGUI as sg\n",
    "entered_dates=''\n",
    "today = str(date.today()).split('-')\n",
    "theme_name_list = sg.theme_list()\n",
    "\n",
    "while True:\n",
    "    sg.theme(theme_name_list[random.randint(0, len(theme_name_list))])\n",
    "    #define layout\n",
    "    layout=[\n",
    "        [sg.Text('Enter the date',size=(20, 1), font='Ubuntu',justification='left')],\n",
    "            [sg.Input(key='from', size=(20,1)), sg.CalendarButton('Calendar',font=\"Ubuntu\",  target='from', default_date_m_d_y=(int(today[1]),int(today[2]),int(today[0])), )],\n",
    "            [sg.Button('OK', font=('Ubuntu',12)),sg.Button('CANCEL', font=('Ubuntu',12))]]\n",
    "    #Define Window\n",
    "    win =sg.Window('Montgomery',layout)\n",
    "    #Read  values entered by user\n",
    "    e,v=win.read()\n",
    "    con = False \n",
    "    print(e,v)\n",
    "    if e == None or e == \"CANCEL\":\n",
    "        print('ham')\n",
    "        print(\"exit\")\n",
    "        win.close()\n",
    "        con = True\n",
    "    #     driver.close()\n",
    "        break\n",
    "    else:\n",
    "        if  v['from'] == None or v['from'] == '':\n",
    "            print('Enter the date correctly')\n",
    "            \n",
    "            win.close()\n",
    "            continue\n",
    "        else:\n",
    "            entered_dates = f\"{v['from'].split(' ')[0].split('-')[1]}/{v['from'].split(' ')[0].split('-')[2]}/{v['from'].split(' ')[0].split('-')[0]}\"\n",
    "            win.close()\n",
    "            break\n",
    "print(entered_dates)\n",
    "\n",
    "def remove_values_from_list(the_list, val):\n",
    "    return [value for value in the_list if value != val]\n",
    "if con:\n",
    "    pass\n",
    "else:\n",
    "#     options = Options()\n",
    "#     options.add_argument('--headless')\n",
    "#     options.add_argument('--disable-gpu')\n",
    "    driver1 = webdriver.Chrome(executable_path=ChromeDriverManager().install())\n",
    "    driver = webdriver.Chrome(ChromeDriverManager().install())\n",
    "    driver.get(f\"https://www.tnledger.com/Notices.aspx?noticesDate={entered_dates}\")\n",
    "    driver.maximize_window()\n",
    "    driver.minimize_window()\n",
    "    driver.implicitly_wait(30)\n",
    "    dates=entered_dates\n",
    "    court_rows=driver.find_elements_by_xpath('//table[@id=\"ContentPane_CourtGridView\"]/tbody/tr')\n",
    "    del court_rows[0]\n",
    "\n",
    "    date=driver.current_url[driver.current_url.find('=')+1:]\n",
    "    cheatham_county_data=[]\n",
    "    montgomery_county_data=[]\n",
    "    davidson_county_data=[]\n",
    "    for i in court_rows:\n",
    "        individual_rows=i.find_elements_by_tag_name('td')\n",
    "        each_row_data=[]\n",
    "        for j in (individual_rows):\n",
    "            if j.text==\"View\":\n",
    "                current_data_cheatham=[]\n",
    "                current_data_montgomery=[]\n",
    "                current_data_davidson=[]\n",
    "                current_link=(j.find_element_by_tag_name('a').get_attribute('href'))\n",
    "                link_id=current_link[current_link.find('(')+1:current_link.find(')')].split(',')[0].replace(\"'\",\"\") \n",
    "                \n",
    "                driver1.get(f\"https://www.tnledger.com/Search/Details/ViewNotice.aspx?id={link_id}&date={date}\")\n",
    "    #             driver1.minimize_window()\n",
    "                driver1.implicitly_wait(30)\n",
    "                \n",
    "                page_data=driver1.find_element_by_xpath('//div[@id=\"record-details\"]')\n",
    "                extracted_text=(page_data.text.splitlines())\n",
    "                probate_status=False\n",
    "                cheatham_status=False\n",
    "                montgomery_status=False\n",
    "                davidson_status=False\n",
    "                for i in extracted_text:\n",
    "                    if 'PROBATE' in i:\n",
    "                        probate_status=True\n",
    "                    if 'CHEATHAM COUNTY' in i:\n",
    "                        cheatham_status=True\n",
    "                    if 'MONTGOMERY COUNTY' in i:\n",
    "                        montgomery_status=True\n",
    "                    if 'DAVIDSON COUNTY' in i:\n",
    "                        davidson_status=True\n",
    "                city='Not Available'\n",
    "                executors='Not Available'\n",
    "                attorney='Not Available'\n",
    "                estate_of='Not Available'\n",
    "                county_name='Not Available'\n",
    "                    \n",
    "                if probate_status==True and davidson_status==True:\n",
    "                    data=page_data.text\n",
    "                    print('DAVIDSON COUNTY whole data going to csv.')\n",
    "                    current_data_davidson.append(data)\n",
    "                    davidson_county_data.append(current_data_davidson)\n",
    "                if probate_status==True and cheatham_status==True:\n",
    "                    for i in extracted_text:\n",
    "                        if 'CHEATHAM COUNTY' in i:\n",
    "                            splited=i.split()\n",
    "                            county_name=splited[splited.index('COUNTY')-1]\n",
    "                            \n",
    "                            print(county_name)\n",
    "                            city=extracted_text[extracted_text.index(i)+1]\n",
    "                            print(city)\n",
    "                            \n",
    "                        if 'Estate of' in i:\n",
    "                            estate_of=(i.replace('Estate of','').strip())\n",
    "                            print(estate_of)\n",
    "                            \n",
    "                        if 'Attorney' in i:\n",
    "                            attorney=(i.replace('Attorney','').strip())\n",
    "                            attorney=attorney.replace(':','').strip()\n",
    "                            \n",
    "                            print(attorney.strip())\n",
    "                        if 'Executor'in i:\n",
    "                            space=1\n",
    "                            executors=''\n",
    "                            while True:\n",
    "                                executors=executors+'|'+(extracted_text[extracted_text.index(i)-space]).replace(' and ','')\n",
    "                                space=space+1\n",
    "                                if len((list(datefinder.find_dates(extracted_text[extracted_text.index(i)-space])))) >0:\n",
    "                                    break\n",
    "                            executors=executors.strip()\n",
    "                            print(executors)\n",
    "                            \n",
    "                        if 'Administrator' in i:\n",
    "                            space=1\n",
    "                            executors=''\n",
    "                            while True:\n",
    "                                executors=executors+'|'+(extracted_text[extracted_text.index(i)-space]).replace(' and ','')\n",
    "                                space=space+1\n",
    "                                if len((list(datefinder.find_dates(extracted_text[extracted_text.index(i)-space])))) >0:\n",
    "                                    break\n",
    "                            executors=executors.strip()\n",
    "                            print(executors)\n",
    "                            \n",
    "                        if 'Executrix' in i:\n",
    "                            space=1\n",
    "                            executors=''\n",
    "                            while True:\n",
    "                                executors=executors+'|'+(extracted_text[extracted_text.index(i)-space]).replace(' and ','')\n",
    "                                space=space+1\n",
    "                                if len((list(datefinder.find_dates(extracted_text[extracted_text.index(i)-space])))) >0:\n",
    "                                    break\n",
    "                            executors=executors.strip()\n",
    "                            print(executors)\n",
    "                            \n",
    "                            \n",
    "                        if 'Administratrix' in i:\n",
    "                            space=1\n",
    "                            executors=''\n",
    "                            while True:\n",
    "                                executors=executors+'|'+(extracted_text[extracted_text.index(i)-space]).replace(' and ','')\n",
    "                                space=space+1\n",
    "                                if len((list(datefinder.find_dates(extracted_text[extracted_text.index(i)-space])))) >0:\n",
    "                                    break\n",
    "                            executors=executors.strip()\n",
    "                            print(executors)\n",
    "                            \n",
    "                        if 'Executris' in i:\n",
    "                            space=1\n",
    "                            executors=''\n",
    "                            while True:\n",
    "                                executors=executors+'|'+(extracted_text[extracted_text.index(i)-space]).replace(' and ','')\n",
    "                                space=space+1\n",
    "                                if len((list(datefinder.find_dates(extracted_text[extracted_text.index(i)-space])))) >0:\n",
    "                                    break\n",
    "                            executors=executors.strip()\n",
    "                            print(executors)\n",
    "                    print([county_name,city,estate_of,executors,attorney])        \n",
    "                    cheatham_county_data.append([county_name,city,estate_of,executors,attorney])\n",
    "                    \n",
    "                if probate_status==True and montgomery_status==True:\n",
    "                    for i in extracted_text:\n",
    "                        if 'MONTGOMERY COUNTY' in i:\n",
    "                            county_name='MONTGOMERY'\n",
    "                            current_data_montgomery.append(county_name)\n",
    "                        if 'estate of' and '(deceased)' in i.lower():\n",
    "                            estate_of=i.replace('ESTATE OF','').strip()\n",
    "                        if 'Attorney' in i:\n",
    "                            print(i.split(':')[-1].strip())\n",
    "                            attorney=i.split(':')[-1].strip()\n",
    "                            current_data_montgomery.append(attorney)\n",
    "                            current_pos=extracted_text.index(i)\n",
    "                            space=1\n",
    "                            executors=''\n",
    "                            while True:\n",
    "                                if len(list(datefinder.find_dates(extracted_text[current_pos-space])))>0:\n",
    "                                       break\n",
    "                                executors=executors+'|'+(extracted_text[current_pos-space])\n",
    "                                space=space+1\n",
    "                            \n",
    "                        if 'deputy' in i.lower():\n",
    "                            city=(extracted_text[extracted_text.index(i)-1])\n",
    "                    print([county_name,city,estate_of,executors,attorney])\n",
    "                    montgomery_county_data.append([county_name,city,estate_of,executors,attorney])\n",
    "    driver1.close()\n",
    "\n",
    "\n",
    "\n",
    "    cheatham_county_data=remove_values_from_list(cheatham_county_data,[])\n",
    "    montgomery_county_data=remove_values_from_list(montgomery_county_data,[])\n",
    "    bold_font = Font(bold=True)\n",
    "    bold_font = Font(bold=True)\n",
    "    center_aligned_text = Alignment(horizontal=\"center\")\n",
    "    double_border_side = Side(border_style=\"double\")\n",
    "    square_border = Border(top=double_border_side,\n",
    "                    right=double_border_side,\n",
    "                    bottom=double_border_side,\n",
    "                    left=double_border_side)\n",
    "    workbook = Workbook()\n",
    "    sheet = workbook.active\n",
    "    sheet.title='Cheatham'\n",
    "    sheet[\"A1\"] = \"County Name\"\n",
    "    sheet[\"A1\"].font = bold_font\n",
    "    sheet[\"A1\"].alignment = center_aligned_text\n",
    "    sheet[\"A1\"].border = square_border\n",
    "    sheet[\"B1\"] = \"City\"\n",
    "    sheet[\"B1\"].font = bold_font\n",
    "    sheet[\"B1\"].alignment = center_aligned_text\n",
    "    sheet[\"B1\"].border = square_border\n",
    "    sheet[\"C1\"] = \"Estate of\"\n",
    "    sheet[\"C1\"].font = bold_font\n",
    "    sheet[\"C1\"].alignment = center_aligned_text\n",
    "    sheet[\"C1\"].border = square_border\n",
    "    sheet[\"D1\"] = \"Executors\"\n",
    "    sheet[\"D1\"].font = bold_font\n",
    "    sheet[\"D1\"].alignment = center_aligned_text\n",
    "    sheet[\"D1\"].border = square_border\n",
    "    sheet[\"E1\"] = \"Attorney\"\n",
    "    sheet[\"E1\"].font = bold_font\n",
    "    sheet[\"E1\"].alignment = center_aligned_text\n",
    "    sheet[\"E1\"].border = square_border\n",
    "\n",
    "    dim_holder = DimensionHolder(worksheet=sheet)\n",
    "\n",
    "    for col in range(sheet.min_column, sheet.max_column + 1):\n",
    "        dim_holder[get_column_letter(col)] = ColumnDimension(sheet, min=col, max=col, width=20)\n",
    "\n",
    "    sheet.column_dimensions = dim_holder\n",
    "    for p,q in enumerate(cheatham_county_data):\n",
    "        sheet[f\"A{p+2}\"]=q[0]           \n",
    "        sheet[f\"B{p+2}\"]=q[1]\n",
    "        sheet[f\"C{p+2}\"]=q[2]\n",
    "        sheet[f\"D{p+2}\"]=q[3]\n",
    "        sheet[f\"E{p+2}\"]=q[4]\n",
    "    sheet=workbook.create_sheet(\"Sheet_A\")\n",
    "    sheet.title='Montgomery'\n",
    "    sheet[\"A1\"] = \"County Name\"\n",
    "    sheet[\"A1\"].font = bold_font\n",
    "    sheet[\"A1\"].alignment = center_aligned_text\n",
    "    sheet[\"A1\"].border = square_border\n",
    "    sheet[\"B1\"] = \"City\"\n",
    "    sheet[\"B1\"].font = bold_font\n",
    "    sheet[\"B1\"].alignment = center_aligned_text\n",
    "    sheet[\"B1\"].border = square_border\n",
    "    sheet[\"C1\"] = \"Estate Of\"\n",
    "    sheet[\"C1\"].font = bold_font\n",
    "    sheet[\"C1\"].alignment = center_aligned_text\n",
    "    sheet[\"C1\"].border = square_border\n",
    "    sheet[\"D1\"] = \"Executors\"\n",
    "    sheet[\"D1\"].font = bold_font\n",
    "    sheet[\"D1\"].alignment = center_aligned_text\n",
    "    sheet[\"D1\"].border = square_border\n",
    "    sheet[\"E1\"] = \"Attorney\"\n",
    "    sheet[\"E1\"].font = bold_font\n",
    "    sheet[\"E1\"].alignment = center_aligned_text\n",
    "    sheet[\"E1\"].border = square_border\n",
    "\n",
    "    dim_holder = DimensionHolder(worksheet=sheet)\n",
    "\n",
    "    for col in range(sheet.min_column, sheet.max_column + 1):\n",
    "        dim_holder[get_column_letter(col)] = ColumnDimension(sheet, min=col, max=col, width=20)\n",
    "\n",
    "    sheet.column_dimensions = dim_holder\n",
    "    for p,q in enumerate(montgomery_county_data):\n",
    "        sheet[f\"A{p+2}\"]=q[0]           \n",
    "        sheet[f\"B{p+2}\"]=q[1]\n",
    "        sheet[f\"C{p+2}\"]=q[2]\n",
    "        sheet[f\"D{p+2}\"]=q[3]\n",
    "        sheet[f\"E{p+2}\"]=q[4]\n",
    "    sheet=workbook.create_sheet(\"Sheet_B\")\n",
    "    sheet.title='Davidson'\n",
    "    sheet[\"A1\"] = \"Whole data\"\n",
    "    sheet[\"A1\"].font = bold_font\n",
    "    sheet[\"A1\"].alignment = center_aligned_text\n",
    "    sheet[\"A1\"].border = square_border\n",
    "    dim_holder = DimensionHolder(worksheet=sheet)\n",
    "\n",
    "    for col in range(sheet.min_column, sheet.max_column + 1):\n",
    "        dim_holder[get_column_letter(col)] = ColumnDimension(sheet, min=col, max=col, width=20)\n",
    "\n",
    "    sheet.column_dimensions = dim_holder\n",
    "    for p,q in enumerate(davidson_county_data):\n",
    "        sheet[f\"A{p+2}\"]=q[0]           \n",
    "        \n",
    "    workbook.save(f\"tnledger_court_notices[{dates.replace('/','-')}].xlsx\")\n",
    "\n",
    "    driver.close()\n",
    "    print('Hey Angel, scraping is done. You can now close this terminal')\n"
   ]
  },
  {
   "cell_type": "code",
   "execution_count": 11,
   "id": "33e50c52",
   "metadata": {},
   "outputs": [
    {
     "data": {
      "text/plain": [
       "'robertson'"
      ]
     },
     "execution_count": 11,
     "metadata": {},
     "output_type": "execute_result"
    }
   ],
   "source": [
    "x=r\"C:\\Users\\92312\\Freelancing and Work\\Client Angel Rivera\\Searcher\\robertson.xlsx\"\n",
    "x.split('\\\\')[-1].split('.')[0]"
   ]
  },
  {
   "cell_type": "code",
   "execution_count": 3,
   "id": "532e8b83",
   "metadata": {},
   "outputs": [
    {
     "data": {
      "text/plain": [
       "['MONTGOMERY', 'By Jan Hinkle']"
      ]
     },
     "execution_count": 3,
     "metadata": {},
     "output_type": "execute_result"
    }
   ],
   "source": []
  },
  {
   "cell_type": "code",
   "execution_count": 40,
   "id": "4567918a",
   "metadata": {},
   "outputs": [
    {
     "data": {
      "text/plain": [
       "('winnative', 'clam', 'alt', 'default', 'classic', 'vista', 'xpnative')"
      ]
     },
     "execution_count": 40,
     "metadata": {},
     "output_type": "execute_result"
    }
   ],
   "source": []
  },
  {
   "cell_type": "code",
   "execution_count": null,
   "id": "ccdd110f",
   "metadata": {},
   "outputs": [],
   "source": []
  }
 ],
 "metadata": {
  "kernelspec": {
   "display_name": "Python 3 (ipykernel)",
   "language": "python",
   "name": "python3"
  },
  "language_info": {
   "codemirror_mode": {
    "name": "ipython",
    "version": 3
   },
   "file_extension": ".py",
   "mimetype": "text/x-python",
   "name": "python",
   "nbconvert_exporter": "python",
   "pygments_lexer": "ipython3",
   "version": "3.9.12"
  }
 },
 "nbformat": 4,
 "nbformat_minor": 5
}
